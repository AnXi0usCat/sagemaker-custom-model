{
 "cells": [
  {
   "cell_type": "code",
   "execution_count": 12,
   "metadata": {},
   "outputs": [
    {
     "name": "stdout",
     "output_type": "stream",
     "text": [
      "Overwriting train/lightgbm.py\n"
     ]
    }
   ],
   "source": [
    "%%writefile train/lightgbm.py\n",
    "from rest_api import serve\n",
    "\n",
    "def serve():\n",
    "    return serve()\n",
    "\n",
    "\n",
    "def meow():\n",
    "    print(\"meow meow cats\")\n",
    "    \n",
    "    \n",
    "if __name__ == '__main__':\n",
    "    meow()"
   ]
  },
  {
   "cell_type": "code",
   "execution_count": 4,
   "metadata": {},
   "outputs": [
    {
     "name": "stdout",
     "output_type": "stream",
     "text": [
      "Writing train/rest_api.py\n"
     ]
    }
   ],
   "source": [
    "%%writefile train/rest_api.py\n",
    "\n",
    "def serve():\n",
    "    print('sdcfghnrfvbhtgfdgbf')\n"
   ]
  },
  {
   "cell_type": "code",
   "execution_count": 9,
   "metadata": {},
   "outputs": [
    {
     "name": "stdout",
     "output_type": "stream",
     "text": [
      "Writing train/__init__.py\n"
     ]
    }
   ],
   "source": [
    "%%writefile train/__init__.py\n"
   ]
  },
  {
   "cell_type": "code",
   "execution_count": null,
   "metadata": {},
   "outputs": [],
   "source": []
  },
  {
   "cell_type": "code",
   "execution_count": null,
   "metadata": {},
   "outputs": [],
   "source": []
  },
  {
   "cell_type": "code",
   "execution_count": null,
   "metadata": {},
   "outputs": [],
   "source": []
  }
 ],
 "metadata": {
  "kernelspec": {
   "display_name": "Python 3",
   "language": "python",
   "name": "python3"
  },
  "language_info": {
   "codemirror_mode": {
    "name": "ipython",
    "version": 3
   },
   "file_extension": ".py",
   "mimetype": "text/x-python",
   "name": "python",
   "nbconvert_exporter": "python",
   "pygments_lexer": "ipython3",
   "version": "3.7.3"
  }
 },
 "nbformat": 4,
 "nbformat_minor": 4
}
